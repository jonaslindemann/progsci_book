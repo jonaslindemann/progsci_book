{
 "cells": [
  {
   "cell_type": "markdown",
   "metadata": {
    "deletable": true,
    "editable": true
   },
   "source": [
    "# Integrating Fortran in Python"
   ]
  },
  {
   "cell_type": "markdown",
   "metadata": {
    "deletable": true,
    "editable": true
   },
   "source": [
    "* External code can be linked into Python using extension modules \n",
    "* Extension modules in Python uses a C Python API\n",
    "* Can be used as normal Python modules\n",
    "* Implementing a Python extension module is hard..."
   ]
  },
  {
   "cell_type": "markdown",
   "metadata": {
    "deletable": true,
    "editable": true
   },
   "source": [
    "```C\n",
    "#include \"Python.h\"\n",
    "\n",
    "// The calculation function\n",
    "\n",
    "static PyObject* sum(PyObject *self, PyObject *args)\n",
    "{\n",
    "    double a;\n",
    "    double b;\n",
    "\n",
    "    // Parse input arguments\n",
    "\n",
    "    if (!PyArg_ParseTuple(args, \"dd\", &a, &b)) \n",
    "        return NULL;\n",
    "\n",
    "    // Do our computation\n",
    "\n",
    "    double c = a + b;\n",
    "\n",
    "    // Return the results\n",
    "\n",
    "    return Py_BuildValue(\"d\", c);\n",
    "}\n",
    "\n",
    "// Module function table.\n",
    "\n",
    "static PyMethodDef\n",
    "module_functions[] = {\n",
    "    { \"sum\", sum, METH_VARARGS, \"Calculate sum.\" },\n",
    "    { NULL }\n",
    "};\n",
    "\n",
    "// Module initialisation\n",
    "\n",
    "void\n",
    "initcext(void)\n",
    "{\n",
    "    Py_InitModule3(\"cext\", module_functions, \"A minimal module.\");\n",
    "}\n",
    "```"
   ]
  },
  {
   "cell_type": "markdown",
   "metadata": {
    "deletable": true,
    "editable": true
   },
   "source": [
    "# There is an easier way - F2PY"
   ]
  },
  {
   "cell_type": "markdown",
   "metadata": {
    "deletable": true,
    "editable": true
   },
   "source": [
    "* F2PY translates Fortran code and creates Python extension code\n",
    "* Automatically passes Numpy Arrays as Fortran arrays\n",
    "* Command line tool - Compiles and links modules automatically\n",
    "* Hard to debug - Make sure existing code works before use"
   ]
  },
  {
   "cell_type": "markdown",
   "metadata": {
    "deletable": true,
    "editable": true
   },
   "source": [
    "# Example 1 - simple.f90"
   ]
  },
  {
   "cell_type": "markdown",
   "metadata": {
    "deletable": true,
    "editable": true
   },
   "source": [
    "```fortran\n",
    "subroutine simple(a,b,c)\n",
    "\n",
    "\treal, intent(in) :: a, b\n",
    "\treal, intent(out) :: c\n",
    "\n",
    "\tc = a + b\n",
    "\n",
    "end subroutine simple\n",
    "```"
   ]
  },
  {
   "cell_type": "markdown",
   "metadata": {
    "deletable": true,
    "editable": true
   },
   "source": [
    " Convert Fortran code to Python extension module using f2py"
   ]
  },
  {
   "cell_type": "code",
   "execution_count": null,
   "metadata": {
    "collapsed": false,
    "deletable": true,
    "editable": true
   },
   "outputs": [],
   "source": [
    "!f2py -m simple -c simple.f90"
   ]
  },
  {
   "cell_type": "markdown",
   "metadata": {
    "deletable": true,
    "editable": true
   },
   "source": [
    "Import module in Python and print generated documentation"
   ]
  },
  {
   "cell_type": "code",
   "execution_count": 2,
   "metadata": {
    "collapsed": false,
    "deletable": true,
    "editable": true
   },
   "outputs": [
    {
     "name": "stdout",
     "output_type": "stream",
     "text": [
      "This module 'simple' is auto-generated with f2py (version:2).\n",
      "Functions:\n",
      "  c = simple(a,b)\n",
      ".\n"
     ]
    }
   ],
   "source": [
    "import simple\n",
    "print(simple.__doc__)"
   ]
  },
  {
   "cell_type": "code",
   "execution_count": 3,
   "metadata": {
    "collapsed": false,
    "deletable": true,
    "editable": true
   },
   "outputs": [
    {
     "name": "stdout",
     "output_type": "stream",
     "text": [
      "c = simple(a,b)\n",
      "\n",
      "Wrapper for ``simple``.\n",
      "\n",
      "Parameters\n",
      "----------\n",
      "a : input float\n",
      "b : input float\n",
      "\n",
      "Returns\n",
      "-------\n",
      "c : float\n",
      "\n"
     ]
    }
   ],
   "source": [
    "print(simple.simple.__doc__)"
   ]
  },
  {
   "cell_type": "markdown",
   "metadata": {
    "deletable": true,
    "editable": true
   },
   "source": [
    "Execute code in extension module"
   ]
  },
  {
   "cell_type": "code",
   "execution_count": 4,
   "metadata": {
    "collapsed": false,
    "deletable": true,
    "editable": true
   },
   "outputs": [
    {
     "name": "stdout",
     "output_type": "stream",
     "text": [
      "84.0\n"
     ]
    }
   ],
   "source": [
    "a = 42\n",
    "b = 42\n",
    "c = simple.simple(a, b)\n",
    "print(c)"
   ]
  },
  {
   "cell_type": "markdown",
   "metadata": {
    "deletable": true,
    "editable": true
   },
   "source": [
    "# Example 2 - arr1.f90"
   ]
  },
  {
   "cell_type": "markdown",
   "metadata": {
    "deletable": true,
    "editable": true
   },
   "source": [
    "```fortran\n",
    "! A[r,s] * B[s,t] = C[r,t]\n",
    "subroutine matrix_multiply(A,r,s,B,t,C)\n",
    "\tinteger :: r, s, t\n",
    "\treal, intent(in) :: A(r,s)\n",
    "\treal, intent(in) :: B(s,t)\n",
    "\treal, intent(out) :: C(r,t)\n",
    "\n",
    "\tC = matmul(A,B)\n",
    "end subroutine matrix_multiply\n",
    "```"
   ]
  },
  {
   "cell_type": "code",
   "execution_count": null,
   "metadata": {
    "collapsed": false,
    "deletable": true,
    "editable": true
   },
   "outputs": [],
   "source": [
    "!f2py -m arr1 -c arr1.f90"
   ]
  },
  {
   "cell_type": "code",
   "execution_count": 6,
   "metadata": {
    "collapsed": false,
    "deletable": true,
    "editable": true
   },
   "outputs": [
    {
     "name": "stdout",
     "output_type": "stream",
     "text": [
      "This module 'arr1' is auto-generated with f2py (version:2).\n",
      "Functions:\n",
      "  c = matrix_multiply(a,b,r=shape(a,0),s=shape(a,1),t=shape(b,1))\n",
      ".\n"
     ]
    }
   ],
   "source": [
    "import arr1\n",
    "print(arr1.__doc__)"
   ]
  },
  {
   "cell_type": "code",
   "execution_count": 7,
   "metadata": {
    "collapsed": false,
    "deletable": true,
    "editable": true
   },
   "outputs": [
    {
     "name": "stdout",
     "output_type": "stream",
     "text": [
      "c = matrix_multiply(a,b,[r,s,t])\n",
      "\n",
      "Wrapper for ``matrix_multiply``.\n",
      "\n",
      "Parameters\n",
      "----------\n",
      "a : input rank-2 array('f') with bounds (r,s)\n",
      "b : input rank-2 array('f') with bounds (s,t)\n",
      "\n",
      "Other Parameters\n",
      "----------------\n",
      "r : input int, optional\n",
      "    Default: shape(a,0)\n",
      "s : input int, optional\n",
      "    Default: shape(a,1)\n",
      "t : input int, optional\n",
      "    Default: shape(b,1)\n",
      "\n",
      "Returns\n",
      "-------\n",
      "c : rank-2 array('f') with bounds (r,t)\n",
      "\n"
     ]
    }
   ],
   "source": [
    "print(arr1.matrix_multiply.__doc__)"
   ]
  },
  {
   "cell_type": "code",
   "execution_count": 8,
   "metadata": {
    "collapsed": false,
    "deletable": true,
    "editable": true
   },
   "outputs": [
    {
     "name": "stdout",
     "output_type": "stream",
     "text": [
      "id of C before multiply = 47594111136912\n",
      "id of C after multiply = 47594111137072\n",
      "[[ 1200.  1200.  1200.  1200.  1200.  1200.]\n",
      " [ 1200.  1200.  1200.  1200.  1200.  1200.]\n",
      " [ 1200.  1200.  1200.  1200.  1200.  1200.]\n",
      " [ 1200.  1200.  1200.  1200.  1200.  1200.]\n",
      " [ 1200.  1200.  1200.  1200.  1200.  1200.]\n",
      " [ 1200.  1200.  1200.  1200.  1200.  1200.]]\n"
     ]
    }
   ],
   "source": [
    "import numpy as np\n",
    "\n",
    "A = np.ones((6,6), 'f', order='F') * 10.0\n",
    "B = np.ones((6,6), 'f', order='F') * 20.0\n",
    "C = np.zeros((6,6), 'f', order='F')\n",
    "\n",
    "print(\"id of C before multiply =\",id(C))\n",
    "\n",
    "C = arr1.matrix_multiply(A, B)\n",
    "\n",
    "print(\"id of C after multiply =\",id(C))\n",
    "\n",
    "print(C)"
   ]
  },
  {
   "cell_type": "markdown",
   "metadata": {
    "deletable": true,
    "editable": true
   },
   "source": [
    "# Example 3 - arr2.f90"
   ]
  },
  {
   "cell_type": "markdown",
   "metadata": {
    "deletable": true,
    "editable": true
   },
   "source": [
    "```fortran\n",
    "! A[r,s] * B[s,t] = C[r,t]\n",
    "subroutine matrix_multiply2(A,r,s,B,t,C)\n",
    "\tinteger :: r, s, t\n",
    "\treal, intent(in) :: A(r,s)\n",
    "\treal, intent(in) :: B(s,t)\n",
    "\treal, intent(inout) :: C(r,t)\n",
    "\n",
    "\tC = matmul(A,B)\n",
    "end subroutine matrix_multiply2\n",
    "```"
   ]
  },
  {
   "cell_type": "code",
   "execution_count": null,
   "metadata": {
    "collapsed": false,
    "deletable": true,
    "editable": true
   },
   "outputs": [],
   "source": [
    "!f2py -m arr2 -c arr2.f90"
   ]
  },
  {
   "cell_type": "code",
   "execution_count": 10,
   "metadata": {
    "collapsed": false,
    "deletable": true,
    "editable": true
   },
   "outputs": [
    {
     "name": "stdout",
     "output_type": "stream",
     "text": [
      "This module 'arr2' is auto-generated with f2py (version:2).\n",
      "Functions:\n",
      "  matrix_multiply2(a,b,c,r=shape(a,0),s=shape(a,1),t=shape(b,1))\n",
      ".\n"
     ]
    }
   ],
   "source": [
    "import arr2\n",
    "print(arr2.__doc__)"
   ]
  },
  {
   "cell_type": "code",
   "execution_count": 11,
   "metadata": {
    "collapsed": false,
    "deletable": true,
    "editable": true
   },
   "outputs": [
    {
     "name": "stdout",
     "output_type": "stream",
     "text": [
      "matrix_multiply2(a,b,c,[r,s,t])\n",
      "\n",
      "Wrapper for ``matrix_multiply2``.\n",
      "\n",
      "Parameters\n",
      "----------\n",
      "a : input rank-2 array('f') with bounds (r,s)\n",
      "b : input rank-2 array('f') with bounds (s,t)\n",
      "c : in/output rank-2 array('f') with bounds (r,t)\n",
      "\n",
      "Other Parameters\n",
      "----------------\n",
      "r : input int, optional\n",
      "    Default: shape(a,0)\n",
      "s : input int, optional\n",
      "    Default: shape(a,1)\n",
      "t : input int, optional\n",
      "    Default: shape(b,1)\n",
      "\n"
     ]
    }
   ],
   "source": [
    "print(arr2.matrix_multiply2.__doc__)"
   ]
  },
  {
   "cell_type": "code",
   "execution_count": 12,
   "metadata": {
    "collapsed": false,
    "deletable": true,
    "editable": true
   },
   "outputs": [
    {
     "name": "stdout",
     "output_type": "stream",
     "text": [
      "id of C before multiply = 47594111136192\n",
      "id of C after multiply = 47594111136192\n",
      "[[ 1200.  1200.  1200.  1200.  1200.  1200.]\n",
      " [ 1200.  1200.  1200.  1200.  1200.  1200.]\n",
      " [ 1200.  1200.  1200.  1200.  1200.  1200.]\n",
      " [ 1200.  1200.  1200.  1200.  1200.  1200.]\n",
      " [ 1200.  1200.  1200.  1200.  1200.  1200.]\n",
      " [ 1200.  1200.  1200.  1200.  1200.  1200.]]\n"
     ]
    }
   ],
   "source": [
    "A = np.ones((6,6), 'f', order='F') * 10.0\n",
    "B = np.ones((6,6), 'f', order='F') * 20.0\n",
    "C = np.zeros((6,6), 'f', order='F')\n",
    "\n",
    "print(\"id of C before multiply =\",id(C))\n",
    "\n",
    "arr2.matrix_multiply2(A, B, C)\n",
    "\n",
    "print(\"id of C after multiply =\",id(C))\n",
    "\n",
    "print(C)"
   ]
  },
  {
   "cell_type": "markdown",
   "metadata": {
    "deletable": true,
    "editable": true
   },
   "source": [
    "# Example 4 - matrix.f90"
   ]
  },
  {
   "cell_type": "markdown",
   "metadata": {
    "deletable": true,
    "editable": true
   },
   "source": [
    "```fortran\n",
    "module matrix\n",
    "\n",
    "contains\n",
    "\n",
    "! A[r,s] * B[s,t] = C[r,t]\n",
    "subroutine matrix_multiply(A,r,s,B,t,C)\n",
    "\tinteger :: r, s, t\n",
    "\treal, intent(in) :: A(r,s)\n",
    "\treal, intent(in) :: B(s,t)\n",
    "\treal, intent(out) :: C(r,t)\n",
    "\n",
    "\tC = matmul(A,B)\n",
    "end subroutine matrix_multiply\n",
    "\n",
    "! A[r,s] * B[s,t] = C[r,t]\n",
    "subroutine matrix_multiply2(A,r,s,B,t,C)\n",
    "        integer :: r, s, t\n",
    "        real, intent(in) :: A(r,s)\n",
    "        real, intent(in) :: B(s,t)\n",
    "        real, intent(inout) :: C(r,t)\n",
    "\n",
    "        C = matmul(A,B)\n",
    "end subroutine matrix_multiply2\n",
    "\n",
    "end module matrix\n",
    "```"
   ]
  },
  {
   "cell_type": "code",
   "execution_count": null,
   "metadata": {
    "collapsed": false,
    "deletable": true,
    "editable": true
   },
   "outputs": [],
   "source": [
    "!f2py -m matrix -c matrix.f90"
   ]
  },
  {
   "cell_type": "code",
   "execution_count": 14,
   "metadata": {
    "collapsed": false,
    "deletable": true,
    "editable": true
   },
   "outputs": [
    {
     "name": "stdout",
     "output_type": "stream",
     "text": [
      "This module 'matrix' is auto-generated with f2py (version:2).\n",
      "Functions:\n",
      "Fortran 90/95 modules:\n",
      "  matrix --- matrix_multiply(),matrix_multiply2().\n"
     ]
    }
   ],
   "source": [
    "import matrix\n",
    "print(matrix.__doc__)"
   ]
  },
  {
   "cell_type": "code",
   "execution_count": 15,
   "metadata": {
    "collapsed": false,
    "deletable": true,
    "editable": true
   },
   "outputs": [
    {
     "name": "stdout",
     "output_type": "stream",
     "text": [
      "c = matrix_multiply(a,b,[r,s,t])\n",
      "\n",
      "Wrapper for ``matrix_multiply``.\n",
      "\n",
      "Parameters\n",
      "----------\n",
      "a : input rank-2 array('f') with bounds (r,s)\n",
      "b : input rank-2 array('f') with bounds (s,t)\n",
      "\n",
      "Other Parameters\n",
      "----------------\n",
      "r : input int, optional\n",
      "    Default: shape(a,0)\n",
      "s : input int, optional\n",
      "    Default: shape(a,1)\n",
      "t : input int, optional\n",
      "    Default: shape(b,1)\n",
      "\n",
      "Returns\n",
      "-------\n",
      "c : rank-2 array('f') with bounds (r,t)\n",
      "matrix_multiply2(a,b,c,[r,s,t])\n",
      "\n",
      "Wrapper for ``matrix_multiply2``.\n",
      "\n",
      "Parameters\n",
      "----------\n",
      "a : input rank-2 array('f') with bounds (r,s)\n",
      "b : input rank-2 array('f') with bounds (s,t)\n",
      "c : in/output rank-2 array('f') with bounds (r,t)\n",
      "\n",
      "Other Parameters\n",
      "----------------\n",
      "r : input int, optional\n",
      "    Default: shape(a,0)\n",
      "s : input int, optional\n",
      "    Default: shape(a,1)\n",
      "t : input int, optional\n",
      "    Default: shape(b,1)\n",
      "\n"
     ]
    }
   ],
   "source": [
    "print(matrix.matrix.__doc__)"
   ]
  },
  {
   "cell_type": "markdown",
   "metadata": {
    "deletable": true,
    "editable": true
   },
   "source": [
    "Modules are better imported using the from * import statement"
   ]
  },
  {
   "cell_type": "code",
   "execution_count": 16,
   "metadata": {
    "collapsed": false,
    "deletable": true,
    "editable": true
   },
   "outputs": [],
   "source": [
    "del(matrix)"
   ]
  },
  {
   "cell_type": "code",
   "execution_count": 17,
   "metadata": {
    "collapsed": false,
    "deletable": true,
    "editable": true
   },
   "outputs": [],
   "source": [
    "from matrix import *"
   ]
  },
  {
   "cell_type": "code",
   "execution_count": 18,
   "metadata": {
    "collapsed": false,
    "deletable": true,
    "editable": true
   },
   "outputs": [
    {
     "name": "stdout",
     "output_type": "stream",
     "text": [
      "[[ 1200.  1200.  1200.  1200.  1200.  1200.]\n",
      " [ 1200.  1200.  1200.  1200.  1200.  1200.]\n",
      " [ 1200.  1200.  1200.  1200.  1200.  1200.]\n",
      " [ 1200.  1200.  1200.  1200.  1200.  1200.]\n",
      " [ 1200.  1200.  1200.  1200.  1200.  1200.]\n",
      " [ 1200.  1200.  1200.  1200.  1200.  1200.]]\n"
     ]
    }
   ],
   "source": [
    "matrix.matrix_multiply2(A, B, C)\n",
    "print(C)"
   ]
  },
  {
   "cell_type": "code",
   "execution_count": null,
   "metadata": {
    "collapsed": true,
    "deletable": true,
    "editable": true
   },
   "outputs": [],
   "source": []
  }
 ],
 "metadata": {
  "kernelspec": {
   "display_name": "Python 3",
   "language": "python",
   "name": "python3"
  },
  "language_info": {
   "codemirror_mode": {
    "name": "ipython",
    "version": 3
   },
   "file_extension": ".py",
   "mimetype": "text/x-python",
   "name": "python",
   "nbconvert_exporter": "python",
   "pygments_lexer": "ipython3",
   "version": "3.5.2"
  }
 },
 "nbformat": 4,
 "nbformat_minor": 2
}
