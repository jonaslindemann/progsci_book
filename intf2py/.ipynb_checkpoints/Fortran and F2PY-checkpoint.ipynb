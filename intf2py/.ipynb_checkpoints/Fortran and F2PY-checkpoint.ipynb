{
 "cells": [
  {
   "cell_type": "markdown",
   "metadata": {},
   "source": [
    "# Integrating Fortran in Python"
   ]
  },
  {
   "cell_type": "markdown",
   "metadata": {},
   "source": [
    "* External code can be linked into Python using extension modules \n",
    "* Extension modules in Python uses a C Python API\n",
    "* Can be used as normal Python modules\n",
    "* Implementing a Python extension module is hard..."
   ]
  },
  {
   "cell_type": "markdown",
   "metadata": {},
   "source": [
    "```C\n",
    "#include \"Python.h\"\n",
    "\n",
    "// The calculation function\n",
    "\n",
    "static PyObject* sum(PyObject *self, PyObject *args)\n",
    "{\n",
    "    double a;\n",
    "    double b;\n",
    "\n",
    "    // Parse input arguments\n",
    "\n",
    "    if (!PyArg_ParseTuple(args, \"dd\", &a, &b)) \n",
    "        return NULL;\n",
    "\n",
    "    // Do our computation\n",
    "\n",
    "    double c = a + b;\n",
    "\n",
    "    // Return the results\n",
    "\n",
    "    return Py_BuildValue(\"d\", c);\n",
    "}\n",
    "\n",
    "// Module function table.\n",
    "\n",
    "static PyMethodDef\n",
    "module_functions[] = {\n",
    "    { \"sum\", sum, METH_VARARGS, \"Calculate sum.\" },\n",
    "    { NULL }\n",
    "};\n",
    "\n",
    "// Module initialisation\n",
    "\n",
    "void\n",
    "initcext(void)\n",
    "{\n",
    "    Py_InitModule3(\"cext\", module_functions, \"A minimal module.\");\n",
    "}\n",
    "```"
   ]
  },
  {
   "cell_type": "markdown",
   "metadata": {},
   "source": [
    "# There is an easier way - F2PY"
   ]
  },
  {
   "cell_type": "markdown",
   "metadata": {},
   "source": [
    "* F2PY translates Fortran code and creates Python extension code\n",
    "* Automatically passes Numpy Arrays as Fortran arrays\n",
    "* Command line tool - Compiles and links modules automatically\n",
    "* Hard to debug - Make sure existing code works before use"
   ]
  },
  {
   "cell_type": "markdown",
   "metadata": {},
   "source": [
    "# Example 1"
   ]
  },
  {
   "cell_type": "markdown",
   "metadata": {},
   "source": []
  },
  {
   "cell_type": "markdown",
   "metadata": {},
   "source": [
    "```fortran\n",
    "subroutine simple(a,b,c)\n",
    "\n",
    "\treal, intent(in) :: a, b\n",
    "\treal, intent(out) :: c\n",
    "\n",
    "\tc = a + b\n",
    "\n",
    "end subroutine simple\n",
    "```"
   ]
  },
  {
   "cell_type": "code",
   "execution_count": null,
   "metadata": {
    "collapsed": true
   },
   "outputs": [],
   "source": []
  }
 ],
 "metadata": {
  "kernelspec": {
   "display_name": "Python 3",
   "language": "python",
   "name": "python3"
  },
  "language_info": {
   "codemirror_mode": {
    "name": "ipython",
    "version": 3
   },
   "file_extension": ".py",
   "mimetype": "text/x-python",
   "name": "python",
   "nbconvert_exporter": "python",
   "pygments_lexer": "ipython3",
   "version": "3.5.2"
  }
 },
 "nbformat": 4,
 "nbformat_minor": 2
}
